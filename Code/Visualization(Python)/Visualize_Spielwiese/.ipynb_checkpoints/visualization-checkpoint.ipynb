{
 "cells": [
  {
   "cell_type": "markdown",
   "metadata": {},
   "source": [
    "## 1. Import"
   ]
  },
  {
   "cell_type": "code",
   "execution_count": 1,
   "metadata": {},
   "outputs": [],
   "source": [
    "import matplotlib.pyplot as plt\n",
    "import numpy as np\n",
    "import random"
   ]
  },
  {
   "cell_type": "markdown",
   "metadata": {},
   "source": [
    "## 2. Hilfsfunktionen"
   ]
  },
  {
   "cell_type": "markdown",
   "metadata": {},
   "source": [
    "### Fläche berechnen"
   ]
  },
  {
   "cell_type": "code",
   "execution_count": 2,
   "metadata": {},
   "outputs": [],
   "source": [
    "def getAreaSize(points):\n",
    "    A = 0.0\n",
    "    for i in range(0, len(points)-1):\n",
    "        A += float(points[i][0]*points[i+1][1] - points[i+1][0]*points[i][1])\n",
    "    A /= 2.0\n",
    "    return A"
   ]
  },
  {
   "cell_type": "markdown",
   "metadata": {},
   "source": [
    "### Geometrische Mitte berechnen"
   ]
  },
  {
   "cell_type": "code",
   "execution_count": 3,
   "metadata": {},
   "outputs": [],
   "source": [
    "def getGeometricalCentroird(points):\n",
    "    #Points have format [(x0,y0), ... ,(x_n-1,y_n-1) ,(x0,y0)]\n",
    "    x_s = 0\n",
    "    y_s = 0\n",
    "    for i in range(0, len(points)-1):\n",
    "         mult_term = (points[i][0]*points[i+1][1] - points[i+1][0]*points[i][1])\n",
    "         x_s += (points[i][0] + points[i+1][0])*mult_term\n",
    "         y_s += (points[i][1] + points[i+1][1])*mult_term\n",
    "    areaSize = getAreaSize(points) \n",
    "    if areaSize != 0:\n",
    "        x_s /= (6*areaSize)\n",
    "        y_s /= (6*areaSize)\n",
    "        return (x_s, y_s, areaSize)\n",
    "    else:\n",
    "        return (points[0][0], points[0][1], 0)"
   ]
  },
  {
   "cell_type": "code",
   "execution_count": 4,
   "metadata": {},
   "outputs": [],
   "source": [
    "def getWeightedGeometricalCentroirds(pointList):\n",
    "    if len(pointList) == 1:\n",
    "        return pointList[0]\n",
    "    \n",
    "    #calculate weighted border centroid\n",
    "    borderCentroid = pointList[0]\n",
    "    (x,y,area) = borderCentroid\n",
    "    weightedBorderCentroid = (x*area,y*area,area)\n",
    "    \n",
    "    #subtract weighted inner centroids\n",
    "    weighted_inner_centroid = (0,0,0)\n",
    "    for current_inner_centroid in pointList[1:]:\n",
    "        (x, y, area) = current_inner_centroid\n",
    "        (xSum, ySum, areaSum) = weighted_inner_centroid\n",
    "        weighted_inner_centroid = (xSum + x*area ,ySum + y*area, areaSum + area)\n",
    "        \n",
    "    #calculate area-difference\n",
    "    (xB,yB,areaB) = weightedBorderCentroid\n",
    "    (xI,yI,areaI) = weighted_inner_centroid\n",
    "    total_area = areaB - areaI\n",
    "\n",
    "    \n",
    "    if total_area == 0:\n",
    "        return borderCentroid\n",
    "    \n",
    "    #calculate weighted centroid\n",
    "    (x, y, area) = ( (xB - xI)/total_area, (yB- yI)/total_area,  total_area)\n",
    "    \n",
    "\n",
    "    \n",
    "    return (x, y, area)\n",
    "    \n",
    "    "
   ]
  },
  {
   "cell_type": "markdown",
   "metadata": {},
   "source": [
    "### Centroid"
   ]
  },
  {
   "cell_type": "code",
   "execution_count": 5,
   "metadata": {},
   "outputs": [],
   "source": [
    "def getPointCentroid(points):\n",
    "     #Points have format [(x0,y0), ... ,(x_n-1,y_n-1) ,(x0,y0)]\n",
    "    (x_s, y_s) =  (0,0)\n",
    "    \n",
    "    for (x,y) in points[0:-1]:\n",
    "        (x_s, y_s) = (x_s + x, y_s + y)\n",
    "            \n",
    "    amount = (len(points) -1)\n",
    "    if amount == 0:\n",
    "        return (points[0][0],points[0][1], amount)\n",
    "    (x_s, y_s) =  (x_s/amount, y_s/amount)\n",
    "    return (x_s, y_s, amount)"
   ]
  },
  {
   "cell_type": "code",
   "execution_count": 6,
   "metadata": {},
   "outputs": [],
   "source": [
    "def getWeightedPointCentroirds(pointList):\n",
    "    if len(pointList) == 1:\n",
    "        return pointList[0]\n",
    "    \n",
    "    sum_points = 0\n",
    "    centroid = (0,0,0)\n",
    "    for (x,y,sum) in pointList:\n",
    "        sum_points += sum\n",
    "    for (x,y,sum) in pointList:\n",
    "        if sum == 0:\n",
    "            continue\n",
    "        (xC, yC, sumC) = centroid\n",
    "        weight = float(sum) / float(sum_points)\n",
    "        centroid = (xC + x * weight, yC + y* weight, sumC + weight*sumC)\n",
    "    return centroid\n",
    "    "
   ]
  },
  {
   "cell_type": "markdown",
   "metadata": {},
   "source": [
    "### Polygone aus FMI-lonlat-Format aus File lesen"
   ]
  },
  {
   "cell_type": "code",
   "execution_count": 7,
   "metadata": {},
   "outputs": [],
   "source": [
    "def convertToPolygonList(pointlist):\n",
    "    points = []\n",
    "    index = 0;\n",
    "    \n",
    "    x_val = 0\n",
    "    for coordinate in pointlist.split(\" \"):\n",
    "        if index == 0:\n",
    "            x_val = float(coordinate)\n",
    "        else:\n",
    "            y_val = float(coordinate)\n",
    "            points.append((x_val, y_val))\n",
    "        index = (index + 1)  %2\n",
    "    if index != 0:\n",
    "        print(\"There must me as many x as y-coordinates.\")\n",
    "        return\n",
    "    return points"
   ]
  },
  {
   "cell_type": "code",
   "execution_count": 8,
   "metadata": {},
   "outputs": [],
   "source": [
    "def import_lon_lat_file(path):\n",
    "    polygon_families = []\n",
    "    current_family = []\n",
    "    fobj = open(path)\n",
    "    current_reading_type = 0;\n",
    "    count_inners = 0;\n",
    "    current_inners = []\n",
    "    parsed = 0\n",
    "    \n",
    "    for line in fobj:\n",
    "        if current_reading_type == 0:\n",
    "            current_outer = convertToPolygonList(line);\n",
    "            current_reading_type = 1\n",
    "            current_family.append(current_outer)\n",
    "        elif current_reading_type == 1:\n",
    "            count_inners = int(line)\n",
    "            if count_inners > 0:\n",
    "                current_reading_type = 2\n",
    "                parsed = 0\n",
    "            else:\n",
    "                current_reading_type = 0\n",
    "                polygon_families.append(current_family)\n",
    "                current_family = []\n",
    "        else:\n",
    "            cur_inner = convertToPolygonList(line)\n",
    "            current_inners.append(cur_inner)\n",
    "            parsed = parsed +1\n",
    "            if parsed >= count_inners:\n",
    "                current_reading_type =0\n",
    "                current_family.extend(current_inners)\n",
    "                polygon_families.append(current_family)\n",
    "                current_family = []\n",
    "                current_inners = []\n",
    "                current_reading_type = 0\n",
    "        \n",
    "    fobj.close()\n",
    "    return polygon_families"
   ]
  },
  {
   "cell_type": "code",
   "execution_count": 9,
   "metadata": {},
   "outputs": [],
   "source": [
    "def import_point_of_I_file (path):\n",
    "    fobj = open(path)\n",
    "    results = []\n",
    "    for line in fobj:\n",
    "            result_array = line.strip().split(\" \")\n",
    "            x = float(result_array[0])\n",
    "            y = float(result_array[1])\n",
    "            dist = float(result_array[2])\n",
    "            results.append((x,y,dist))\n",
    "    fobj.close()\n",
    "    return results"
   ]
  },
  {
   "cell_type": "markdown",
   "metadata": {},
   "source": [
    "### Linien aus FMI-lonlat-Format aus File lesen"
   ]
  },
  {
   "cell_type": "code",
   "execution_count": 10,
   "metadata": {},
   "outputs": [],
   "source": [
    "def read_lines(path):\n",
    "    fobj = open(path)\n",
    "    results = []\n",
    "    for line in fobj:\n",
    "        subresult = []\n",
    "        result_array = line.strip().split(\" \")\n",
    "        offset = 0;\n",
    "        while offset + 3 < len(result_array):\n",
    "            a = result_array[0 + offset]\n",
    "            b = result_array[1 + offset]\n",
    "            c = result_array[2 + offset]\n",
    "            d = result_array[3 + offset]\n",
    "            subresult.append([(a,b), (c,d)])\n",
    "            offset = offset + 4\n",
    "        results.append(subresult)\n",
    "    return results"
   ]
  },
  {
   "cell_type": "markdown",
   "metadata": {},
   "source": [
    "### Punkte aus FMI-lonlat-Format aus File lesen"
   ]
  },
  {
   "cell_type": "code",
   "execution_count": 11,
   "metadata": {},
   "outputs": [],
   "source": [
    "def read_points(path):\n",
    "    fobj = open(path)\n",
    "    results = []\n",
    "    for line in fobj:\n",
    "        subresult = []\n",
    "        result_array = line.strip().split(\" \")\n",
    "        offset = 0;\n",
    "        while offset + 1 < len(result_array):\n",
    "            a = result_array[0 + offset]\n",
    "            b = result_array[1 + offset]\n",
    "            subresult.append((a,b))\n",
    "            offset = offset + 2\n",
    "        results.append(subresult)\n",
    "    return results"
   ]
  },
  {
   "cell_type": "markdown",
   "metadata": {},
   "source": [
    "### Einzelne Punkte Plotten"
   ]
  },
  {
   "cell_type": "code",
   "execution_count": 12,
   "metadata": {},
   "outputs": [],
   "source": [
    "def print_skeleton_central_points(pointarray, appearance):\n",
    "    for point in pointarray:\n",
    "        x = float(point[0])\n",
    "        y = float(point[1])\n",
    "        plt.plot(x, y, appearance,zorder=0)"
   ]
  },
  {
   "cell_type": "markdown",
   "metadata": {},
   "source": [
    "### Einzelne Linen Plotten"
   ]
  },
  {
   "cell_type": "code",
   "execution_count": 13,
   "metadata": {},
   "outputs": [],
   "source": [
    "def print_lines(lines, my_color, my_linewidth):\n",
    "    for line in lines:\n",
    "        x = [float(line[0][0]), float(line[1][0])]\n",
    "        y = [float(line[0][1]), float(line[1][1])]\n",
    "        plt.plot(x, y, linewidth=my_linewidth, color=my_color ,zorder=0)"
   ]
  },
  {
   "cell_type": "markdown",
   "metadata": {},
   "source": [
    "## 3. Ergebnisse plotten"
   ]
  },
  {
   "cell_type": "code",
   "execution_count": 35,
   "metadata": {
    "scrolled": false
   },
   "outputs": [
    {
     "name": "stdout",
     "output_type": "stream",
     "text": [
      "\n",
      "\n",
      "\n",
      "lon_lat_FMI_format/get_center_of_single_family_test:\n",
      "(mit 1 Outer-Inner-Teilen)\n",
      "(87836251.21935292, 531099885.91391003)\n"
     ]
    },
    {
     "data": {
      "image/png": "[encoded data removed]",
      "text/plain": [
       "<Figure size 1440x864 with 1 Axes>"
      ]
     },
     "metadata": {
      "needs_background": "light"
     },
     "output_type": "display_data"
    }
   ],
   "source": [
    "#filenames = [\"good_PoI_example\", \"good_PoI_example2\", \"good_PoI_example3\"]\n",
    "filenames = [\"get_center_of_single_family_test\"]\n",
    "#filenames = [\"hufeisen\"]\n",
    "folder = \"lon_lat_FMI_format/\"\n",
    "fileformat_plain           = \".txt\"\n",
    "fileformat_results         = \".result\"\n",
    "fileformat_diagonals       = \".diagonals\"\n",
    "fileformat_skeleton        = \".skeleton\"\n",
    "fileformat_skeleton_points_betweenness = \".skeleton_central_points_betweenness\"\n",
    "fileformat_skeleton_points_closeness = \".skeleton_central_points_closeness\"\n",
    "files = [folder + name for name in filenames]\n",
    "\n",
    "rounds = -1\n",
    "for currentFile in files:\n",
    "    rounds = rounds + 1\n",
    "    print(\"\\n\\n\\n\" + currentFile + \":\")\n",
    "    \n",
    "    #plotsize\n",
    "    plt.figure(figsize=(20,12))\n",
    "    plt.axis('equal')\n",
    "    #plt.autoscale(tight=False)\n",
    "    \n",
    "    #Load Polygonfamilies from file\n",
    "    polygon_families = import_lon_lat_file(currentFile + fileformat_plain)\n",
    "    \n",
    "    #Load Results from RUST-Calculation: Point of Inaccessibility\n",
    "    #polygon_family_PoI_centroid         = import_point_of_I_file(currentFile + fileformat_results)\n",
    "    \n",
    "    #load diagonal from RUST-Calculation: Polygon-Skeleton-Graph\n",
    "    #polygon_triangulation_diagonals     = []#read_lines(currentFile + fileformat_diagonals)\n",
    "    #polygon_triangulation_skeletons     = []#read_lines(currentFile + fileformat_skeleton)\n",
    "    #polygon_skeletons_central_points_betweenness    = []#read_points(currentFile + fileformat_skeleton_points_betweenness)\n",
    "    #polygon_skeletons_central_points_closeness      = []#read_points(currentFile + fileformat_skeleton_points_closeness)\n",
    "    \n",
    "    \n",
    "    #color for holes\n",
    "    inner_color = (0.7,0.7,0.4)\n",
    "    \n",
    "    print(\"(mit \" + str(len(polygon_families)) + \" Outer-Inner-Teilen)\")\n",
    "    \n",
    "    polygongroup = 0\n",
    "    \n",
    "    for polygon_family in polygon_families:\n",
    "        #Subresults\n",
    "        geometricalCentroirds = []\n",
    "        pointCentroirds = []\n",
    "        \n",
    "        #count groups\n",
    "        polygongroup = polygongroup + 1\n",
    "        \n",
    "        is_outer_polygon = True\n",
    "        for polygon in polygon_family:\n",
    "    \n",
    "            #Color holes sdifferently\n",
    "            color = inner_color\n",
    "            if is_outer_polygon:\n",
    "                is_outer_polygon = False\n",
    "                color = (1, 0.61, 0)\n",
    "\n",
    "            #Split Pointarray to x and y values\n",
    "            points = polygon\n",
    "            x_koords = [x for (x,y) in points]\n",
    "            y_koords = [y for (x,y) in points]\n",
    "\n",
    "            #calculate subresults for Centroids\n",
    "            geometricalCentroirds.append(getGeometricalCentroird(points))\n",
    "            pointCentroirds.append(getPointCentroid(points))\n",
    "            \n",
    "            plt.plot(x_koords, y_koords, linewidth=2, solid_capstyle='round', color=color)\n",
    "        \n",
    "        #Plot Centroit of Polygon-family\n",
    "        grouplabel = \"Polygongruppe \" + str(polygongroup) +\":\"\n",
    "        \n",
    "        (x_s, y_s, area_s) = getWeightedGeometricalCentroirds(geometricalCentroirds)\n",
    "              \n",
    "        if area_s > 0:\n",
    "            #plt.plot(x_s, y_s, 'or', label= grouplabel + 'geometric Centroid')\n",
    "        \n",
    "            (x_c, y_c, sum_c)  = getWeightedPointCentroirds(pointCentroirds)\n",
    "                #plt.plot(x_c, y_c, 'xg', label= grouplabel + 'average Centroid')\n",
    "           \n",
    "            #diagonals = polygon_triangulation_diagonals[polygongroup-1]\n",
    "            #print_lines(diagonals,(0.9,0.9,0.9), 1)\n",
    "            \n",
    "            #skeleton = polygon_triangulation_skeletons[polygongroup-1]\n",
    "            #print_lines(skeleton,(0.8,0,0), 1.5)\n",
    "            \n",
    "            #central_points_betweeness = polygon_skeletons_central_points_betweenness[polygongroup-1]\n",
    "            #print_skeleton_central_points(central_points_betweeness, 'sy');\n",
    "            \n",
    "            #central_points_closeness = polygon_skeletons_central_points_closeness[polygongroup-1]\n",
    "            #print_skeleton_central_points(central_points_closeness, 'Dg');\n",
    "            \n",
    "            #print_skeleton_central_points(polygon, 'or');\n",
    "            \n",
    "            #(x, y, rad) = polygon_family_PoI_centroid[polygongroup-1]\n",
    "            #plt.plot(x, y, '+b', label= grouplabel + 'Point of Inaccessibility (1.0 Precision)')\n",
    "            #circle1 = plt.Circle((x, y), rad, color='b', fill=False)\n",
    "            \n",
    "            \n",
    "            fig = plt.gcf()\n",
    "            ax = fig.gca()\n",
    "            #ax.add_artist(circle1)\n",
    "\n",
    "            poi_x = float(88062251.85573769)\n",
    "            poi_y = float(530997112.56653786)\n",
    "            plt.plot(poi_x, poi_y, color='blue')\n",
    "\n",
    "            print(x_s, y_s)\n",
    "            \n",
    "            fig.savefig(\"Output/\" + filenames[rounds] + \".pdf\")\n",
    "            \n",
    "        \n",
    "    #plt.legend(loc='upper right', bbox_to_anchor=(1.5, 1.05))\n",
    "    plt.show()\n",
    "    \n",
    "            \n",
    "\n",
    "#Grün = Punkte Zentrieren\n",
    "#Rot = Flächenschwrpunkt"
   ]
  },
  {
   "cell_type": "code",
   "execution_count": null,
   "metadata": {},
   "outputs": [],
   "source": []
  },
  {
   "cell_type": "code",
   "execution_count": null,
   "metadata": {},
   "outputs": [],
   "source": []
  },
  {
   "cell_type": "code",
   "execution_count": null,
   "metadata": {},
   "outputs": [],
   "source": []
  },
  {
   "cell_type": "code",
   "execution_count": null,
   "metadata": {},
   "outputs": [],
   "source": []
  },
  {
   "cell_type": "code",
   "execution_count": null,
   "metadata": {},
   "outputs": [],
   "source": []
  },
  {
   "cell_type": "code",
   "execution_count": null,
   "metadata": {},
   "outputs": [],
   "source": []
  },
  {
   "cell_type": "code",
   "execution_count": null,
   "metadata": {},
   "outputs": [],
   "source": []
  }
 ],
 "metadata": {
  "kernelspec": {
   "display_name": "Python 3",
   "language": "python",
   "name": "python3"
  },
  "language_info": {
   "codemirror_mode": {
    "name": "ipython",
    "version": 2
   },
   "file_extension": ".py",
   "mimetype": "text/x-python",
   "name": "python",
   "nbconvert_exporter": "python",
   "pygments_lexer": "ipython2",
   "version": "2.7.15rc1"
  }
 },
 "nbformat": 4,
 "nbformat_minor": 2
}
